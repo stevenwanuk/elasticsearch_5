{
 "cells": [
  {
   "cell_type": "markdown",
   "metadata": {
    "collapsed": true
   },
   "source": [
    "# Start default Node\n"
   ]
  },
  {
   "cell_type": "code",
   "execution_count": 24,
   "metadata": {
    "collapsed": true
   },
   "outputs": [],
   "source": [
    "# ./elasticsearch"
   ]
  },
  {
   "cell_type": "code",
   "execution_count": null,
   "metadata": {
    "collapsed": true
   },
   "outputs": [],
   "source": [
    "{\n",
    "  \"name\" : \"nXNCqGl\",\n",
    "  \"cluster_name\" : \"elasticsearch\",\n",
    "  \"cluster_uuid\" : \"hIMiDMFCRp28NQd8UdiAYw\",\n",
    "  \"version\" : {\n",
    "    \"number\" : \"5.3.1\",\n",
    "    \"build_hash\" : \"5f9cf58\",\n",
    "    \"build_date\" : \"2017-04-17T15:52:53.846Z\",\n",
    "    \"build_snapshot\" : false,\n",
    "    \"lucene_version\" : \"6.4.2\"\n",
    "  },\n",
    "  \"tagline\" : \"You Know, for Search\"\n",
    "}"
   ]
  },
  {
   "cell_type": "markdown",
   "metadata": {},
   "source": [
    "# Start Node with parameters"
   ]
  },
  {
   "cell_type": "code",
   "execution_count": 25,
   "metadata": {
    "collapsed": true
   },
   "outputs": [],
   "source": [
    "# ./elasticsearch -Ecluster.name=my_cluster_name -Enode.name=my_node_name"
   ]
  },
  {
   "cell_type": "code",
   "execution_count": null,
   "metadata": {
    "collapsed": true
   },
   "outputs": [],
   "source": [
    "{\n",
    "  \"name\" : \"my_node_name\",\n",
    "  \"cluster_name\" : \"my_cluster_name\",\n",
    "  \"cluster_uuid\" : \"hIMiDMFCRp28NQd8UdiAYw\",\n",
    "  \"version\" : {\n",
    "    \"number\" : \"5.3.1\",\n",
    "    \"build_hash\" : \"5f9cf58\",\n",
    "    \"build_date\" : \"2017-04-17T15:52:53.846Z\",\n",
    "    \"build_snapshot\" : false,\n",
    "    \"lucene_version\" : \"6.4.2\"\n",
    "  },\n",
    "  \"tagline\" : \"You Know, for Search\"\n",
    "}"
   ]
  },
  {
   "cell_type": "markdown",
   "metadata": {},
   "source": [
    "## You can have multiple nodes in the same cluster.\n",
    "\n",
    "Change the port (e.g. 9201) and run the script. If you have already defined the name of the cluster you have to use the same name otherwise it will fail to create the node."
   ]
  },
  {
   "cell_type": "markdown",
   "metadata": {},
   "source": [
    "## Get Cluster Health"
   ]
  },
  {
   "cell_type": "code",
   "execution_count": 30,
   "metadata": {
    "collapsed": true
   },
   "outputs": [],
   "source": [
    "# http://localhost:9200/_cluster/health?pretty\n",
    "\n",
    "# curl -XGET 'localhost:9200/_cat/health?v&pretty' "
   ]
  },
  {
   "cell_type": "markdown",
   "metadata": {},
   "source": [
    "## Get Nodes"
   ]
  },
  {
   "cell_type": "code",
   "execution_count": 28,
   "metadata": {
    "collapsed": true
   },
   "outputs": [],
   "source": [
    "# curl -XGET 'localhost:9200/_cat/nodes?v&pretty'"
   ]
  },
  {
   "cell_type": "markdown",
   "metadata": {},
   "source": [
    "## Get Indices"
   ]
  },
  {
   "cell_type": "code",
   "execution_count": 31,
   "metadata": {
    "collapsed": true
   },
   "outputs": [],
   "source": [
    "# curl -XGET 'localhost:9200/_cat/indices?v&pretty'"
   ]
  },
  {
   "cell_type": "markdown",
   "metadata": {},
   "source": [
    "## Create/Delete Index"
   ]
  },
  {
   "cell_type": "code",
   "execution_count": 35,
   "metadata": {
    "collapsed": true
   },
   "outputs": [],
   "source": [
    "# curl -XPUT 'localhost:9200/index_name?pretty&pretty'\n",
    "\n",
    "# curl -XDELETE 'localhost:9200/index_name?pretty&pretty'"
   ]
  },
  {
   "cell_type": "markdown",
   "metadata": {},
   "source": [
    "## Add/Delete Data to Index"
   ]
  },
  {
   "cell_type": "code",
   "execution_count": 43,
   "metadata": {
    "collapsed": true
   },
   "outputs": [],
   "source": [
    "#########    With specific ID     ########\n",
    "\n",
    "# curl -XPUT 'localhost:9200/customer/external/1?pretty&pretty' -H 'Content-Type: application/json' -d'\n",
    "# {\n",
    "#   \"name\": \"Panos Sideris\", \"address\": \"London 101\"\n",
    "# }'\n",
    "\n",
    "#######     Random generated ID    #######\n",
    "\n",
    "# curl -XPOST 'localhost:9200/customer/external?pretty&pretty' -H 'Content-Type: application/json' -d'\n",
    "# {\n",
    "#   \"name\": \"Donald Duck\", \"address\": \"Homeless\"\n",
    "# }'\n",
    "\n",
    "\n",
    "##########################################\n",
    "\n",
    "# curl -XDELETE 'localhost:9200/customer/external/1?pretty&pretty'"
   ]
  },
  {
   "cell_type": "markdown",
   "metadata": {},
   "source": [
    "## Update Data to Index"
   ]
  },
  {
   "cell_type": "code",
   "execution_count": 46,
   "metadata": {
    "collapsed": true
   },
   "outputs": [],
   "source": [
    "# curl -XPOST 'localhost:9200/customer/external/1/_update?pretty&pretty' -H 'Content-Type: application/json' -d'\n",
    "# {\n",
    "#   \"doc\": { \"wife name\": \"Mary\" }\n",
    "# }'\n",
    "\n",
    "\n",
    "##########################################\n",
    "\n",
    "# curl -XPOST 'localhost:9200/customer/external/_bulk?pretty&pretty' -H 'Content-Type: application/json' -d'\n",
    "# {\"index\":{\"_id\":\"1\"}}\n",
    "# {\"name\": \"John Doe\" }\n",
    "# {\"index\":{\"_id\":\"2\"}}\n",
    "# {\"name\": \"Jane Doe\" }'\n",
    "\n",
    "\n",
    "#########################################\n",
    "\n",
    "# curl -XPOST 'localhost:9200/customer/external/_bulk?pretty&pretty' -H 'Content-Type: application/json' -d'\n",
    "# {\"update\":{\"_id\":\"1\"}}\n",
    "# {\"doc\": { \"name\": \"John Doe becomes Jane Doe\" } }\n",
    "# {\"delete\":{\"_id\":\"2\"}}'"
   ]
  },
  {
   "cell_type": "markdown",
   "metadata": {},
   "source": [
    "## Import Data"
   ]
  },
  {
   "cell_type": "code",
   "execution_count": null,
   "metadata": {
    "collapsed": true
   },
   "outputs": [],
   "source": [
    "# curl -H \"Content-Type: application/json\" -XPOST 'localhost:9200/bank/account/_bulk?pretty&refresh' --data-binary \"@accounts.json\""
   ]
  },
  {
   "cell_type": "markdown",
   "metadata": {},
   "source": [
    "## Search Data"
   ]
  },
  {
   "cell_type": "code",
   "execution_count": 48,
   "metadata": {
    "collapsed": true
   },
   "outputs": [],
   "source": [
    "# curl -XGET 'localhost:9200/bank/_search?q=*&sort=account_number:asc&pretty&pretty'\n",
    "\n",
    "\n",
    "########################################\n",
    "\n",
    "# curl -XGET 'localhost:9200/bank/_search?pretty' -H 'Content-Type: application/json' -d'\n",
    "# {\n",
    "#   \"query\": { \"match_all\": {} },\n",
    "#   \"sort\": [\n",
    "#     { \"account_number\": \"asc\" }\n",
    "#   ]\n",
    "# }'"
   ]
  },
  {
   "cell_type": "markdown",
   "metadata": {},
   "source": [
    "## Search with \"Select From\""
   ]
  },
  {
   "cell_type": "code",
   "execution_count": null,
   "metadata": {
    "collapsed": true
   },
   "outputs": [],
   "source": [
    "# curl -XGET 'localhost:9200/bank/_search?pretty' -H 'Content-Type: application/json' -d'\n",
    "# { \n",
    "#   \"query\": { \"match_all\": {} },\n",
    "#   \"_source\": [\"account_number\", \"balance\"]\n",
    "# }'"
   ]
  },
  {
   "cell_type": "markdown",
   "metadata": {},
   "source": [
    "## Search with Boolean AND"
   ]
  },
  {
   "cell_type": "code",
   "execution_count": 1,
   "metadata": {
    "collapsed": true
   },
   "outputs": [],
   "source": [
    "# curl -XGET 'localhost:9200/bank/_search?pretty' -H 'Content-Type: application/json' -d'\n",
    "# {\n",
    "#   \"query\": {\n",
    "#     \"bool\": {\n",
    "#       \"must\": [\n",
    "#         { \"match\": { \"address\": \"mill\" } },\n",
    "#         { \"match\": { \"address\": \"lane\" } }\n",
    "#       ]\n",
    "#     }\n",
    "#   }\n",
    "# }'"
   ]
  },
  {
   "cell_type": "markdown",
   "metadata": {},
   "source": [
    "## Search with Boolean OR"
   ]
  },
  {
   "cell_type": "code",
   "execution_count": 2,
   "metadata": {
    "collapsed": true
   },
   "outputs": [],
   "source": [
    "# curl -XGET 'localhost:9200/bank/_search?pretty' -H 'Content-Type: application/json' -d'\n",
    "# {\n",
    "#   \"query\": {\n",
    "#     \"bool\": {\n",
    "#       \"should\": [\n",
    "#         { \"match\": { \"address\": \"mill\" } },\n",
    "#         { \"match\": { \"address\": \"lane\" } }\n",
    "#       ]\n",
    "#     }\n",
    "#   }\n",
    "# }'"
   ]
  },
  {
   "cell_type": "markdown",
   "metadata": {},
   "source": [
    "## Sort with script"
   ]
  },
  {
   "cell_type": "code",
   "execution_count": 2,
   "metadata": {
    "collapsed": true
   },
   "outputs": [],
   "source": [
    "POST /bp_en_gb,bp_en_us/specialty/_search\n",
    "{\n",
    "    \"track_scores\": true,\n",
    "    \"query\" : {\n",
    "        \"term\" : { \"specialtyName\" : \"Vascular surgery\" }\n",
    "    },\n",
    "    \"sort\" : [\n",
    "        {\"_script\" : {\n",
    "            \"type\" : \"number\",\n",
    "            \"script\" : {\n",
    "                \"lang\": \"painless\",\n",
    "                \"inline\": \"if(doc['_index'].value.contains('en_gb') ){return 0} else {return 1}\"\n",
    "            },\n",
    "            \"order\" : \"desc\"\n",
    "            }\n",
    "        },\n",
    "        \"_score\"\n",
    "    \n",
    "    ]\n",
    "}"
   ]
  },
  {
   "cell_type": "markdown",
   "metadata": {},
   "source": [
    "## search against multi-indexes, remove duplication by id and sort by indexName"
   ]
  },
  {
   "cell_type": "code",
   "execution_count": 2,
   "metadata": {
    "collapsed": true
   },
   "outputs": [],
   "source": [
    "POST /bp_en_gb,bp_en_us/monograph_specialty/_search\n",
    "{\n",
    "  \"from\":0,\n",
    "  \"size\":0,\n",
    "  \"query\":{\n",
    "    \"bool\":{\n",
    "      \"should\":[\n",
    "        {\n",
    "          \"bool\":{\n",
    "            \"must\":[\n",
    "              {\n",
    "                \"multi_match\":{\n",
    "                  \"query\":\"Vascular surgery\",\n",
    "                  \"fields\":[\n",
    "                    \"specialtyName^1.0\"\n",
    "                  ],\n",
    "                  \"type\":\"cross_fields\",\n",
    "                  \"operator\":\"AND\",\n",
    "                  \"slop\":0,\n",
    "                  \"prefix_length\":0,\n",
    "                  \"max_expansions\":50,\n",
    "                  \"lenient\":false,\n",
    "                  \"zero_terms_query\":\"NONE\",\n",
    "                  \"boost\":1.0\n",
    "                }\n",
    "              }\n",
    "            ],\n",
    "            \"disable_coord\":false,\n",
    "            \"adjust_pure_negative\":true,\n",
    "            \"boost\":1.0\n",
    "          }\n",
    "        }\n",
    "      ],\n",
    "      \"disable_coord\":false,\n",
    "      \"adjust_pure_negative\":true,\n",
    "      \"boost\":1.0\n",
    "    }\n",
    "  },\n",
    "  \"_source\":{\n",
    "    \"includes\":[\n",
    "      \"id\",\n",
    "      \"specialtyId\",\n",
    "      \"specialtyName\"\n",
    "    ],\n",
    "    \"excludes\":[\n",
    "\n",
    "    ]\n",
    "  },\n",
    "  \"aggs\":{\n",
    "    \"dedup\":{\n",
    "      \"terms\":{\n",
    "        \"field\":\"id\"\n",
    "      },\n",
    "      \"aggs\":{\n",
    "        \"dedup_docs\":{\n",
    "          \"top_hits\":{\n",
    "            \"size\":2,\n",
    "            \"sort\":[\n",
    "              {\n",
    "                \"_script\":{\n",
    "                  \"script\":{\n",
    "                    \"inline\":\"if(doc['_index'].value.contains('en_gb') ){return 0} else {return 1}\",\n",
    "                    \"lang\":\"painless\"\n",
    "                  },\n",
    "                  \"type\":\"number\",\n",
    "                  \"order\":\"asc\"\n",
    "                }\n",
    "              }\n",
    "            ]\n",
    "          }\n",
    "        }\n",
    "      }\n",
    "    }\n",
    "  }\n",
    "}"
   ]
  },
  {
   "cell_type": "markdown",
   "metadata": {},
   "source": [
    "## Pagination on aggregation by 2 es calls(not for huge amount data)\n",
    "optionA.1, query all bucket ids with empty hits. manully do pagination and get ids for current page\n",
    "optionA.2, search buckets with these ids.\n",
    "\n",
    "optionB.1, query all bucket ids with empty hits. manully do pagination and get ids for previous pages\n",
    "optionB.2, search all buckets without these ids, get first pageSize ids from result."
   ]
  },
  {
   "cell_type": "code",
   "execution_count": 2,
   "metadata": {
    "collapsed": true
   },
   "outputs": [],
   "source": [
    "POST /bp_en_gb,bp_en_us/monograph_specialty/_search\n",
    "{\n",
    "  \"from\":0,\n",
    "  \"size\":0,\n",
    "  \"query\":{\n",
    "    \"bool\":{\n",
    "      \"should\":[\n",
    "        {\n",
    "          \"bool\":{\n",
    "            \"must\":[\n",
    "              {\n",
    "                \"multi_match\":{\n",
    "                  \"query\":\"Vascular surgery\",\n",
    "                  \"fields\":[\n",
    "                    \"specialtyName^1.0\"\n",
    "                  ],\n",
    "                  \"type\":\"cross_fields\",\n",
    "                  \"operator\":\"AND\",\n",
    "                  \"slop\":0,\n",
    "                  \"prefix_length\":0,\n",
    "                  \"max_expansions\":50,\n",
    "                  \"lenient\":false,\n",
    "                  \"zero_terms_query\":\"NONE\",\n",
    "                  \"boost\":1.0\n",
    "                }\n",
    "              }\n",
    "            ],\n",
    "            \"must_not\":[\n",
    "              {\n",
    "                \"ids\":{\n",
    "                  \"values\":[\n",
    "                    \"monograph-specialty-1213-29\",\n",
    "                    \"monograph-specialty-1015-29\"\n",
    "                  ]\n",
    "                }\n",
    "              }\n",
    "            ],\n",
    "            \"disable_coord\":false,\n",
    "            \"adjust_pure_negative\":true,\n",
    "            \"boost\":1.0\n",
    "          }\n",
    "        }\n",
    "      ],\n",
    "      \"disable_coord\":false,\n",
    "      \"adjust_pure_negative\":true,\n",
    "      \"boost\":1.0\n",
    "    }\n",
    "  },\n",
    "  \"_source\":{\n",
    "    \"includes\":[\n",
    "      \"id\",\n",
    "      \"specialtyId\",\n",
    "      \"specialtyName\"\n",
    "    ],\n",
    "    \"excludes\":[\n",
    "\n",
    "    ]\n",
    "  },\n",
    "  \"aggs\":{\n",
    "    \"dedup\":{\n",
    "      \"terms\":{\n",
    "        \"field\":\"id\"\n",
    "      },\n",
    "      \"aggs\":{\n",
    "        \"dedup_docs\":{\n",
    "          \"top_hits\":{\n",
    "            \"from\":10,\n",
    "            \"sort\":[\n",
    "              {\n",
    "                \"_script\":{\n",
    "                  \"script\":{\n",
    "                    \"inline\":\"if(doc['_index'].value.contains('en_gb') ){return 0} else {return 1}\",\n",
    "                    \"lang\":\"painless\"\n",
    "                  },\n",
    "                  \"type\":\"number\",\n",
    "                  \"order\":\"asc\"\n",
    "                }\n",
    "              }\n",
    "            ]\n",
    "          }\n",
    "        }\n",
    "      }\n",
    "    }\n",
    "  }\n",
    "}"
   ]
  },
  {
   "cell_type": "markdown",
   "metadata": {},
   "source": [
    "## suggestion_analyzer for index setting"
   ]
  },
  {
   "cell_type": "code",
   "execution_count": 2,
   "metadata": {
    "collapsed": true
   },
   "outputs": [],
   "source": [
    "POST /bp_en_us/_settings\n",
    "{\n",
    "  \"analysis\":{\n",
    "    \"filter\":{\n",
    "      \"default_synonym_filter\":{\n",
    "        \"type\":\"synonym\",\n",
    "        \"synonyms_path\":\"synonym/MESH_default_v1.0.txt\",\n",
    "        \"ignore_case\":\"true\"\n",
    "      },\n",
    "      \"snowball_filter\":{\n",
    "        \"type\":\"snowball\",\n",
    "        \"language\":\"English\"\n",
    "      },\n",
    "      \"shingle_filter\":{\n",
    "        \"min_shingle_size\":2,\n",
    "        \"max_shingle_size\":3,\n",
    "        \"type\":\"shingle\"\n",
    "      }\n",
    "    },\n",
    "    \"analyzer\":{\n",
    "      \"default\":{\n",
    "        \"language\":\"English\",\n",
    "        \"tokenizer\":\"standard\",\n",
    "        \"filter\":[\n",
    "          \"default_synonym_filter\",\n",
    "          \"snowball_filter\",\n",
    "          \"asciifolding\",\n",
    "          \"lowercase\"\n",
    "        ]\n",
    "      },\n",
    "      \"suggestion_analyzer\":{\n",
    "        \"tokenizer\":\"lowercase\",\n",
    "        \"filter\":[\n",
    "          \"lowercase\",\n",
    "          \"asciifolding\",\n",
    "          \"shingle_filter\"\n",
    "        ],\n",
    "        \"type\":\"custom\"\n",
    "      }\n",
    "    }\n",
    "  }\n",
    "}"
   ]
  },
  {
   "cell_type": "markdown",
   "metadata": {},
   "source": [
    "## mapping for auto completion"
   ]
  },
  {
   "cell_type": "code",
   "execution_count": 2,
   "metadata": {
    "collapsed": true
   },
   "outputs": [],
   "source": [
    "{\n",
    "  \"item\":{\n",
    "    \"properties\":{\n",
    "      \"id\":{\n",
    "        \"type\":\"keyword\"\n",
    "      },\n",
    "      \"title\":{\n",
    "        \"type\":\"text\",\n",
    "        \"fields\":{\n",
    "          \"raw\":{\n",
    "            \"type\":\"keyword\"\n",
    "          },\n",
    "          \"suggest\":{\n",
    "            \"type\":\"completion\"\n",
    "          }\n",
    "        }\n",
    "      }\n",
    "    }\n",
    "  }\n",
    "}"
   ]
  },
  {
   "cell_type": "markdown",
   "metadata": {},
   "source": [
    "## boost on indices level"
   ]
  },
  {
   "cell_type": "code",
   "execution_count": null,
   "metadata": {
    "collapsed": true
   },
   "outputs": [],
   "source": [
    "GET /_search\n",
    "{\n",
    "    \"from\" : 0, \n",
    "    \"size\" : 10,\n",
    "    \"track_scores\": true,\n",
    "    \"query\" : {\n",
    "        ....\n",
    "    },\n",
    "    \"indices_boost\" : [\n",
    "            { \"en_gb\" : 2 },\n",
    "            { \"en_us\" : 1 }\n",
    "        ]\n",
    "}"
   ]
  },
  {
   "cell_type": "markdown",
   "metadata": {},
   "source": [
    "## boost on type level"
   ]
  },
  {
   "cell_type": "code",
   "execution_count": null,
   "metadata": {
    "collapsed": true
   },
   "outputs": [],
   "source": [
    "GET /_search\n",
    "{\n",
    "    \"query\": {\n",
    "        \"function_score\": {\n",
    "          \"query\": {  \"term\" : { \"id\" : \"1148\" } },\n",
    "          \"boost\": \"5\", \n",
    "          \"functions\": [\n",
    "              {\n",
    "                  \"filter\": { \"match\": { \"_type\": \"type_A\" } },\n",
    "                  \"weight\": 1\n",
    "              },\n",
    "              {\n",
    "                  \"filter\": { \"match\": { \"_type\": \"type_B\" } },\n",
    "                  \"weight\": 2\n",
    "              }\n",
    "          ],\n",
    "          \"max_boost\": 100,\n",
    "          \"score_mode\": \"max\",\n",
    "          \"boost_mode\": \"multiply\",\n",
    "          \"min_score\" : 0\n",
    "        }\n",
    "    }\n",
    "}"
   ]
  },
  {
   "cell_type": "markdown",
   "metadata": {},
   "source": [
    "## boost on field level"
   ]
  },
  {
   "cell_type": "code",
   "execution_count": null,
   "metadata": {
    "collapsed": true
   },
   "outputs": [],
   "source": [
    "GET /_search\n",
    "{\n",
    "  \"from\" : 0,\n",
    "  \"size\" : 15,\n",
    "  \"query\" : {\n",
    "    \"bool\" : {\n",
    "      \"should\" : [\n",
    "        {\n",
    "          \"bool\" : {\n",
    "            \"must\" : [\n",
    "              {\n",
    "                \"multi_match\" : {\n",
    "                  \"query\" : \"some_query_terms\",\n",
    "                  \"fields\" : [\n",
    "                    \"es_filed_test^1.0\"\n",
    "                  ],\n",
    "                  \"type\" : \"cross_fields\",\n",
    "                  \"operator\" : \"AND\",\n",
    "                  \"slop\" : 0,\n",
    "                  \"prefix_length\" : 0,\n",
    "                  \"max_expansions\" : 50,\n",
    "                  \"lenient\" : false,\n",
    "                  \"zero_terms_query\" : \"NONE\",\n",
    "                  \"boost\" : 1.0\n",
    "                }\n",
    "              }\n",
    "            ],\n",
    "            \"disable_coord\" : false,\n",
    "            \"adjust_pure_negative\" : true,\n",
    "            \"boost\" : 1.0\n",
    "          }\n",
    "        }\n",
    "      ],\n",
    "      \"disable_coord\" : false,\n",
    "      \"adjust_pure_negative\" : true,\n",
    "      \"boost\" : 1.0\n",
    "    }\n",
    "  }\n",
    "}"
   ]
  },
  {
   "cell_type": "markdown",
   "metadata": {},
   "source": [
    "# Term aggregation by script"
   ]
  },
  {
   "cell_type": "code",
   "execution_count": null,
   "metadata": {
    "collapsed": true
   },
   "outputs": [],
   "source": [
    "GET /bp_en_gb,calculator_en_gb/_search\n",
    "{\n",
    "  \"from\":0,\n",
    "  \"size\":1,\n",
    "  \"query\":{\n",
    "    \"bool\":{\n",
    "      \"should\":[\n",
    "        {\n",
    "          \"bool\":{\n",
    "            \"must\":[\n",
    "              {\n",
    "                \"multi_match\":{\n",
    "                  \"query\":\"diabetes\",\n",
    "                  \"fields\":[\n",
    "                    \"_all^1.0\"\n",
    "                  ],\n",
    "                  \"type\":\"cross_fields\",\n",
    "                  \"operator\":\"AND\",\n",
    "                  \"slop\":0,\n",
    "                  \"prefix_length\":0,\n",
    "                  \"max_expansions\":50,\n",
    "                  \"lenient\":false,\n",
    "                  \"zero_terms_query\":\"NONE\",\n",
    "                  \"boost\":1.0\n",
    "                }\n",
    "              }\n",
    "            ],\n",
    "            \"disable_coord\":false,\n",
    "            \"adjust_pure_negative\":true,\n",
    "            \"boost\":1.0\n",
    "          }\n",
    "        }\n",
    "      ],\n",
    "      \"disable_coord\":false,\n",
    "      \"adjust_pure_negative\":true,\n",
    "      \"boost\":1.0\n",
    "    }\n",
    "  },\n",
    "  \"script_fields\":{\n",
    "    \"test1\":{\n",
    "      \"script\":{\n",
    "        \"lang\":\"painless\",\n",
    "        \"inline\":\"if (doc.containsKey('monographId')) {return doc['monographId'].value} else {return doc['_type'].value+'-'+ doc['id'].value}\"\n",
    "      }\n",
    "    }\n",
    "  },\n",
    "  \"_source\":{\n",
    "    \"includes\":[\n",
    "      \"id\", \n",
    "      \"test1\",\n",
    "      \"monographId\"\n",
    "    ],\n",
    "    \"excludes\":[\n",
    "\n",
    "    ]\n",
    "  },\n",
    "  \"aggregations\":{\n",
    "    \"test_term\":{\n",
    "      \"terms\":{\n",
    "        \"script\":\"if (doc.containsKey('monographId')) {return doc['monographId'].value} else {return doc['_type'].value+'-'+ doc['id'].value}\",\n",
    "        \"size\":10,\n",
    "        \"min_doc_count\":1,\n",
    "        \"shard_min_doc_count\":0,\n",
    "        \"show_term_doc_count_error\":false,\n",
    "        \"order\":[\n",
    "          {\n",
    "            \"_count\":\"desc\"\n",
    "          },\n",
    "          {\n",
    "            \"_term\":\"asc\"\n",
    "          }\n",
    "        ]\n",
    "      },\n",
    "      \"aggregations\":{\n",
    "        \"top_monographId_hit\":{\n",
    "          \"top_hits\":{\n",
    "            \"from\":0,\n",
    "            \"size\":2,\n",
    "            \"version\":false,\n",
    "            \"explain\":false,\n",
    "            \"_source\":{\n",
    "                \"includes\":[\n",
    "                  \"id\", \n",
    "                  \"test1\",\n",
    "                  \"monographId\"\n",
    "                ],\n",
    "                \"excludes\":[\n",
    "            \n",
    "                ]\n",
    "              }\n",
    "          }\n",
    "        }\n",
    "      }\n",
    "    }\n",
    "  }\n",
    "}"
   ]
  }
 ],
 "metadata": {
  "kernelspec": {
   "display_name": "Python 3",
   "language": "python",
   "name": "python3"
  },
  "language_info": {
   "codemirror_mode": {
    "name": "ipython",
    "version": 3
   },
   "file_extension": ".py",
   "mimetype": "text/x-python",
   "name": "python",
   "nbconvert_exporter": "python",
   "pygments_lexer": "ipython3",
   "version": "3.5.3"
  }
 },
 "nbformat": 4,
 "nbformat_minor": 2
}
